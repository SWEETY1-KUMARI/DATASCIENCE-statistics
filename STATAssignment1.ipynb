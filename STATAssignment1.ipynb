{
  "nbformat": 4,
  "nbformat_minor": 0,
  "metadata": {
    "colab": {
      "provenance": []
    },
    "kernelspec": {
      "name": "python3",
      "display_name": "Python 3"
    },
    "language_info": {
      "name": "python"
    }
  },
  "cells": [
    {
      "cell_type": "markdown",
      "source": [
        "Q1. What is Statistics?"
      ],
      "metadata": {
        "id": "FpYAwiP6WtQK"
      }
    },
    {
      "cell_type": "markdown",
      "source": [
        "Statistics is the study of collecting, analyzing, interpreting, and presenting data. It involves using mathematical methods to summarize and understand information, make predictions, and support decision-making in various fields."
      ],
      "metadata": {
        "id": "S9uOMeFLW5ZU"
      }
    },
    {
      "cell_type": "markdown",
      "source": [
        "Q2. Define the different types of statistics and give an example of when each type might be used."
      ],
      "metadata": {
        "id": "x_DRK9MYXNQd"
      }
    },
    {
      "cell_type": "markdown",
      "source": [
        "\n",
        "1. Descriptive Statistics: Summarizes and presents data, provides a clear understanding of the dataset. Example: Calculating the average and range of test scores in a class.\n",
        "\n",
        "2. Inferential Statistics: Makes predictions and draws conclusions about populations based on sample data. Example: Testing a new drug's effectiveness on a small group and generalizing the results to the larger population."
      ],
      "metadata": {
        "id": "vHnmhC67W8B-"
      }
    },
    {
      "cell_type": "markdown",
      "source": [
        "Q3. What are the different types of data and how do they differ from each other? Provide an example of\n",
        "each type of data."
      ],
      "metadata": {
        "id": "4p5KbQdFXSEB"
      }
    },
    {
      "cell_type": "markdown",
      "source": [
        "\n",
        "Qualitative (Categorical) Data:\n",
        "Qualitative data, also known as categorical data, represents characteristics or attributes that can be divided into categories. It describes qualities or characteristics that are not measurable on a numerical scale. Qualitative data can be further classified into two subtypes:\n",
        "\n",
        "a. Nominal Data: Nominal data consists of categories without any inherent order or numerical value. The categories are distinct and mutually exclusive.\n",
        "\n",
        "Example: Colors (red, blue, green), types of animals (dog, cat, bird).\n",
        "\n",
        "b. Ordinal Data: Ordinal data involves categories with a meaningful order or ranking, but the intervals between categories are not quantifiable. The categories have a relative ranking.\n",
        "\n",
        "Example: Educational levels (elementary, middle school, high school, college), customer satisfaction ratings (low, medium, high).\n",
        "\n",
        "\n",
        "Discrete Data:\n",
        "Discrete data consists of whole numbers or countable values. These values are separate and distinct, with no intermediate values between them. Discrete data can only take specific values and cannot be measured precisely.\n",
        "Example: The number of students in a class (e.g., 25 students), the number of cars in a parking lot (e.g., 50 cars), or the number of goals scored in a soccer match (e.g., 3 goals).\n",
        "\n",
        "Continuous Data:\n",
        "Continuous data consists of values that can take any real number within a range. These values are measured and can be expressed as decimals or fractions. Continuous data can have an infinite number of possible values, making it possible to measure with greater precision.\n",
        "Example: Height (e.g., 165.5 cm), weight (e.g., 68.7 kg), temperature (e.g., 25.3°C), or time (e.g., 3.25 hours).\n",
        "\n",
        "\n",
        "\n",
        "\n",
        "\n",
        "\n",
        "\n"
      ],
      "metadata": {
        "id": "XFgBxQlZXU6k"
      }
    },
    {
      "cell_type": "markdown",
      "source": [],
      "metadata": {
        "id": "7_WKHHt1XVqt"
      }
    },
    {
      "cell_type": "markdown",
      "source": [
        "Q4. Categorise the following datasets with respect to quantitative and qualitative data types:\n",
        "(i) Grading in exam: A+, A, B+, B, C+, C, D, E\n",
        "(ii) Colour of mangoes: yellow, green, orange, red\n",
        "(iii) Height data of a class: [178.9, 179, 179.5, 176, 177.2, 178.3, 175.8,...]\n",
        "(iv) Number of mangoes exported by a farm: [500, 600, 478, 672, ...]"
      ],
      "metadata": {
        "id": "QRiSIGbaXVnL"
      }
    },
    {
      "cell_type": "markdown",
      "source": [
        "(i) Grading in exam: Qualitative (Ordinal) data\n",
        "(ii) Colour of mangoes: Qualitative (Nominal) data\n",
        "(iii) Height data of a class: Quantitative (Continuous) data\n",
        "(iv) Number of mangoes exported by a farm: Quantitative (Discrete) data"
      ],
      "metadata": {
        "id": "tsbbZLYDXVkr"
      }
    },
    {
      "cell_type": "markdown",
      "source": [],
      "metadata": {
        "id": "SdOlXgLbXVhe"
      }
    },
    {
      "cell_type": "markdown",
      "source": [
        "Q5. Explain the concept of levels of measurement and give an example of a variable for each level."
      ],
      "metadata": {
        "id": "59GfT4KKXVez"
      }
    },
    {
      "cell_type": "markdown",
      "source": [
        "\n",
        "Levels of measurement refer to how data is classified and measured. There are four levels: nominal (categories without order), ordinal (categories with order), interval (equal intervals with no true zero), and ratio (equal intervals with a true zero).\n",
        "\n",
        "Examples:\n",
        "1. Nominal: Eye colors (blue, brown, green).\n",
        "2. Ordinal: Educational levels (elementary, middle school, high school, college).\n",
        "3. Interval: Temperature in Celsius.\n",
        "4. Ratio: Height in centimeters.\n",
        "\n"
      ],
      "metadata": {
        "id": "75SmtQPGXVb6"
      }
    },
    {
      "cell_type": "markdown",
      "source": [
        "Q6. Why is it important to understand the level of measurement when analyzing data? Provide an\n",
        "example to illustrate your answer.\n"
      ],
      "metadata": {
        "id": "2l49YkqHXVY7"
      }
    },
    {
      "cell_type": "markdown",
      "source": [
        "Understanding the level of measurement is crucial for data analysis as it determines the appropriate statistical methods. For example, if we have ordinal data like educational levels (elementary, middle school, high school, college), we can find the mode to identify the most frequent level. However, treating it as interval data and calculating the mean would be inappropriate and lead to misleading results. Properly identifying the level of measurement ensures valid interpretations and meaningful insights"
      ],
      "metadata": {
        "id": "yu5EwMMTj82Z"
      }
    },
    {
      "cell_type": "markdown",
      "source": [
        "Q7. How nominal data type is different from ordinal data type."
      ],
      "metadata": {
        "id": "ypz6kQhij9F7"
      }
    },
    {
      "cell_type": "markdown",
      "source": [
        "\n",
        "1. Nominal Data:\n",
        "- Nominal data consists of categories or labels with no inherent order or ranking.\n",
        "- The categories are distinct and mutually exclusive, but they cannot be organized in a meaningful sequence.\n",
        "- Nominal data can only be described using qualitative attributes.\n",
        "- Examples of nominal data include eye colors (blue, brown, green) or types of animals (dog, cat, bird).\n",
        "\n",
        "2. Ordinal Data:\n",
        "- Ordinal data represents categories with a meaningful order or ranking.\n",
        "- The categories have a specific order, but the intervals between them are not quantifiable.\n",
        "- It allows for qualitative ranking but does not permit precise comparisons of differences between the categories.\n",
        "- Examples of ordinal data include educational levels (elementary, middle school, high school, college) or customer satisfaction ratings (low, medium, high).\n"
      ],
      "metadata": {
        "id": "UCjsVDSmlHWe"
      }
    },
    {
      "cell_type": "markdown",
      "source": [
        "Q8. Which type of plot can be used to display data in terms of range?"
      ],
      "metadata": {
        "id": "M3lTdxl3mD5p"
      }
    },
    {
      "cell_type": "markdown",
      "source": [
        "A box plot can be used to display data in terms of range. It shows the distribution's median, quartiles, and potential outliers, providing a visual summary of the data's spread.\n",
        "\n",
        "A box plot uses boxes and whiskers to summarize the distribution of values within measured groups. The positions of the box and whisker ends show the regions where the majority of the data lies. We most commonly see box plots when we have multiple groups to compare to one another; other charts with more detail are preferred when we have only one group to plot.\n",
        "\n"
      ],
      "metadata": {
        "id": "3m4c_FSIlHS4"
      }
    },
    {
      "cell_type": "markdown",
      "source": [
        "Q9. Describe the difference between descriptive and inferential statistics. Give an example of each\n",
        "type of statistics and explain how they are used."
      ],
      "metadata": {
        "id": "Xy8G_ZwIlHGq"
      }
    },
    {
      "cell_type": "markdown",
      "source": [
        "Descriptive Statistics:\n",
        "\n",
        "- Descriptive statistics involves organizing, summarizing, and presenting data in a meaningful way.\n",
        "- It describes the main features of the data, such as central tendency (mean, median, mode) and dispersion (range, variance, standard deviation).\n",
        "- Descriptive statistics are used to provide a clear understanding of the dataset and to visualize its characteristics.\n",
        "\n",
        "Example: Suppose we have a dataset of exam scores for a class. Descriptive statistics would be used to calculate the mean score to understand the average performance of the students and the standard deviation to see how much the scores vary from the mean, providing insights into the overall performance of the class.\n",
        "\n",
        "Inferential Statistics:\n",
        "\n",
        "- Inferential statistics involves making predictions, drawing conclusions, and making generalizations about populations based on sample data.\n",
        "- It uses probability theory and hypothesis testing to infer insights beyond the observed data.\n",
        "- Inferential statistics are used to test hypotheses, make predictions, and support decision-making in various fields.\n",
        "\n",
        "Example: In a medical study, researchers want to determine if a new drug is effective in reducing blood pressure. They conduct a randomized controlled trial (RCT) with a sample of patients. Inferential statistics would be used to analyze the data from the sample to draw conclusions about the larger population of patients with the same condition. By testing hypotheses and calculating confidence intervals, the researchers can infer whether the drug has a significant effect on reducing blood pressure in the broader population.\n",
        "\n"
      ],
      "metadata": {
        "id": "X62JuAs7lHDH"
      }
    },
    {
      "cell_type": "markdown",
      "source": [
        "Q10. What are some common measures of central tendency"
      ],
      "metadata": {
        "id": "_3B8tJLHlHAx"
      }
    },
    {
      "cell_type": "markdown",
      "source": [
        "\n",
        "1. Mean: The mean is the sum of all data values divided by the number of data points. It represents the average or typical value of the dataset.\n",
        "\n",
        "2. Median: The median is the middle value when the data is arranged in ascending or descending order. It divides the dataset into two equal halves.\n",
        "\n",
        "3. Mode: The mode is the value that occurs most frequently in the dataset. There can be one mode (unimodal) or more than one mode (multimodal) in a dataset.\n",
        "\n",
        "\n"
      ],
      "metadata": {
        "id": "521CVOtRm6uP"
      }
    }
  ]
}