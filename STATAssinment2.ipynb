{
  "nbformat": 4,
  "nbformat_minor": 0,
  "metadata": {
    "colab": {
      "provenance": []
    },
    "kernelspec": {
      "name": "python3",
      "display_name": "Python 3"
    },
    "language_info": {
      "name": "python"
    }
  },
  "cells": [
    {
      "cell_type": "markdown",
      "source": [
        "\n",
        "\n",
        "Q1. What are the three measures of central tendency?\n"
      ],
      "metadata": {
        "id": "cotrEcxTMhNf"
      }
    },
    {
      "cell_type": "markdown",
      "source": [
        "Mean - The average of all values in the data set.\n",
        "Median - The middle value when data is arranged in order, or the average of two middle values if there is an even number of data points.\n",
        "Mode - The value that appears most frequently in the data set."
      ],
      "metadata": {
        "id": "c7Q_XJLJNeH_"
      }
    },
    {
      "cell_type": "markdown",
      "source": [
        "Q2. What is the difference between the mean, median, and mode? How are they used to measure the\n",
        "central tendency of a dataset?"
      ],
      "metadata": {
        "id": "kPU9nqbmMsfh"
      }
    },
    {
      "cell_type": "markdown",
      "source": [
        "\n",
        "1. Mean:\n",
        "- The mean is the sum of all values in the dataset divided by the total number of values.\n",
        "- It is sensitive to extreme values (outliers) in the dataset because it takes into account every value.\n",
        "- The mean is often used when dealing with numerical data that follows a roughly symmetric distribution, such as the normal distribution.\n",
        "- It is the most common measure of central tendency and is useful for finding the average value of a dataset.\n",
        "\n",
        "2. Median:\n",
        "- The median is the middle value in a dataset when the data is ordered from least to greatest (or vice versa).\n",
        "- It is not influenced by extreme values, making it a robust measure of central tendency.\n",
        "- The median is often used when the dataset contains outliers or when the distribution is skewed, as it gives a better representation of the central value in such cases.\n",
        "- It is particularly useful for ordinal data or data that is not normally distributed.\n",
        "\n",
        "3. Mode:\n",
        "- The mode is the value that appears most frequently in the dataset.\n",
        "- It can be used for any type of data, including nominal data, where items are categorized into distinct groups.\n",
        "- Unlike the mean and median, the mode does not require numerical values; it simply looks for the most common category or value.\n",
        "- The mode is useful when identifying the most frequent outcome or category in a dataset.\n",
        "\n",
        "The mean, median, and mode are different ways to measure the central tendency of a dataset. The mean represents the average, the median represents the middle value, and the mode represents the most frequent value or category. Choosing the appropriate measure depends on the nature of the data, the presence of outliers, and the overall shape of the distribution. It is common to use all three measures together to gain a comprehensive understanding of the central tendency and distribution of the data."
      ],
      "metadata": {
        "id": "YyLsVZgBNtHH"
      }
    },
    {
      "cell_type": "markdown",
      "source": [
        "Q3. Measure the three measures of central tendency for the given height data:\n",
        "[178,177,176,177,178.2,178,175,179,180,175,178.9,176.2,177,172.5,178,176.5]"
      ],
      "metadata": {
        "id": "VZAkmK6oMuqr"
      }
    },
    {
      "cell_type": "markdown",
      "source": [
        "Mean = 177.70625\n",
        "Median = 176.5\n",
        "Mode = 178"
      ],
      "metadata": {
        "id": "0OZZ2tYPOGEO"
      }
    },
    {
      "cell_type": "markdown",
      "source": [
        "Q4. Find the standard deviation for the given data:\n",
        "[178,177,176,177,178.2,178,175,179,180,175,178.9,176.2,177,172.5,178,176.5]"
      ],
      "metadata": {
        "id": "sK9LD2kRMxOZ"
      }
    },
    {
      "cell_type": "markdown",
      "source": [
        " The standard deviation for the given data is approximately 1.268"
      ],
      "metadata": {
        "id": "-3J9i4__OY0A"
      }
    },
    {
      "cell_type": "markdown",
      "source": [
        "Q5. How are measures of dispersion such as range, variance, and standard deviation used to describe\n",
        "the spread of a dataset? Provide an example."
      ],
      "metadata": {
        "id": "98DzpxTvMz2x"
      }
    },
    {
      "cell_type": "markdown",
      "source": [
        "Measures of dispersion, such as range, variance, and standard deviation, are used to describe the spread or variability of a dataset.\n",
        "\n",
        "1. Range:\n",
        "The range is the simplest measure of dispersion and is calculated by taking the difference between the maximum and minimum values in the dataset. It provides a rough estimate of the spread but is sensitive to outliers.\n",
        "\n",
        "Example:\n",
        "Consider the following dataset representing the scores of a basketball team in a series of games: [75, 80, 72, 88, 90].\n",
        "Range = Maximum value - Minimum value = 90 - 72 = 18\n",
        "In this case, the range is 18, indicating that the scores vary by 18 points across the games.\n",
        "\n",
        "2. Variance:\n",
        "Variance measures the average squared deviation of each data point from the mean. It provides a more precise measure of the spread, accounting for all data points.\n",
        "\n",
        "Example:\n",
        "Suppose we have a dataset of exam scores: [85, 78, 90, 92, 88].\n",
        "The variance is approximately 18.62.\n",
        "\n",
        "3. Standard Deviation:\n",
        "The standard deviation is approximately 4.321.\n",
        "\n",
        "In summary, measures of dispersion like range, variance, and standard deviation help us understand how spread out the data points are from the central tendency. A larger value indicates greater variability, while a smaller value suggests more consistency in the dataset. These measures are essential for analyzing and comparing datasets and provide valuable insights into the distribution and spread of the data."
      ],
      "metadata": {
        "id": "i6QENgvzQ2IS"
      }
    },
    {
      "cell_type": "markdown",
      "source": [
        "Q6. What is a Venn diagram?"
      ],
      "metadata": {
        "id": "6MEQhhw9M6gf"
      }
    },
    {
      "cell_type": "markdown",
      "source": [
        "a Venn diagram is a graphical representation of sets or groups using overlapping circles to show the relationships and common elements between them. It helps visualize intersections and differences between the sets, making it easier to understand their relationships."
      ],
      "metadata": {
        "id": "5ZgalrBXRMo-"
      }
    },
    {
      "cell_type": "markdown",
      "source": [
        "Q7. For the two given sets A = (2,3,4,5,6,7) & B = (0,2,6,8,10). Find:\n",
        "(i) A intersect B\n",
        "(ii) A ⋃ B"
      ],
      "metadata": {
        "id": "axcgJoxIM7Qx"
      }
    },
    {
      "cell_type": "code",
      "source": [
        "i -  {2, 6}  ii - {0, 2, 3, 4, 5, 6, 7, 8, 10}"
      ],
      "metadata": {
        "id": "XMUolqioRNhP"
      },
      "execution_count": null,
      "outputs": []
    },
    {
      "cell_type": "markdown",
      "source": [
        "Q8. What do you understand about skewness in data?"
      ],
      "metadata": {
        "id": "fH4q0mCGM9ue"
      }
    },
    {
      "cell_type": "markdown",
      "source": [
        "Skewness in data refers to the asymmetry of a probability distribution or dataset. Positive skewness means a longer right tail, negative skewness means a longer left tail, and symmetrical distribution has balanced tails. Skewness helps understand the shape of the data and its deviation from a normal distribution.\n",
        "\n",
        "There are three types of skewness:\n",
        "\n",
        "Positive Skewness (Right Skewness): Longer right tail, mean > median.\n",
        "Negative Skewness (Left Skewness): Longer left tail, mean < median.\n",
        "Symmetrical Distribution: Balanced tails, mean ≈ median."
      ],
      "metadata": {
        "id": "7AeBCDXlR7Eb"
      }
    },
    {
      "cell_type": "markdown",
      "source": [
        "Q9. If a data is right skewed then what will be the position of median with respect to mean?"
      ],
      "metadata": {
        "id": "D9ZXsKsVM_4n"
      }
    },
    {
      "cell_type": "markdown",
      "source": [
        "If a dataset is right-skewed, the median will be positioned to the left of the mean.\n",
        "- Right-skewed data: Median < Mean"
      ],
      "metadata": {
        "id": "nLt_aq9jSMqx"
      }
    },
    {
      "cell_type": "markdown",
      "source": [
        "Q10. Explain the difference between covariance and correlation. How are these measures used in\n",
        "statistical analysis?"
      ],
      "metadata": {
        "id": "6_myMjqlNC3e"
      }
    },
    {
      "cell_type": "markdown",
      "source": [
        "1. Covariance:\n",
        "- Covariance measures how two variables change together. It indicates the direction of the relationship (positive or negative) but doesn't provide information about the strength of the relationship.\n",
        "- The magnitude of the covariance depends on the scales of the variables, making it challenging to compare covariances between different datasets or variables with different units of measurement.\n",
        "- Covariance can be positive (both variables increase or decrease together) or negative (one variable increases while the other decreases).\n",
        "- Its formula considers the deviations of each data point from their respective means and is divided by (n - 1) for a sample.\n",
        "\n",
        "2. Correlation (Pearson's correlation coefficient, r):\n",
        "- Correlation is a standardized measure that provides both direction and strength of the relationship between two variables.\n",
        "- It ranges from -1 to +1, with -1 indicating a strong negative linear relationship, +1 indicating a strong positive linear relationship, and 0 indicating a weak or no linear relationship.\n",
        "- Correlation is dimensionless, making it easier to compare relationships between different pairs of variables, regardless of their scales or units.\n",
        "- The formula for Pearson's correlation coefficient uses covariance and the standard deviations of the two variables.\n",
        "\n",
        "In statistical analysis, correlation is more commonly used because it gives a standardized measure of association that is easily interpretable and comparable across different datasets. It helps researchers and analysts understand the strength and direction of relationships between variables, identify patterns, make predictions, and perform regression analysis."
      ],
      "metadata": {
        "id": "6kzgcxebS5uz"
      }
    },
    {
      "cell_type": "markdown",
      "source": [
        "Q11. What is the formula for calculating the sample mean? Provide an example calculation for a\n",
        "dataset."
      ],
      "metadata": {
        "id": "BTL2Jp4GNFNt"
      }
    },
    {
      "cell_type": "markdown",
      "source": [
        "Sample Mean (X̄) = (Sum of all data points) / (Number of data points)\n",
        "\n",
        "Example calculation:\n",
        "\n",
        "Let's calculate the sample mean for the following dataset:\n",
        "[10, 15, 20, 25, 30]\n",
        "\n",
        "Step 1: Add all the data points:\n",
        "Sum = 10 + 15 + 20 + 25 + 30 = 100\n",
        "\n",
        "Step 2: Count the number of data points (sample size):\n",
        "Number of data points (n) = 5\n",
        "\n",
        "Step 3: Apply the formula for the sample mean:\n",
        "Sample Mean (X̄) = Sum / n = 100 / 5 = 20\n",
        "\n",
        "The sample mean for the dataset [10, 15, 20, 25, 30] is 20."
      ],
      "metadata": {
        "id": "OMohC9PpTaaE"
      }
    },
    {
      "cell_type": "markdown",
      "source": [
        "Q12. For a normal distribution data what is the relationship between its measure of central tendency?"
      ],
      "metadata": {
        "id": "aNGKSZRlNJzo"
      }
    },
    {
      "cell_type": "markdown",
      "source": [
        "\n",
        "1. Mean (μ): In a perfectly symmetrical normal distribution, the mean, median, and mode are all equal. This means that the center of the distribution coincides, and there is no skewness present.\n",
        "\n",
        "2. Median: The median is also equal to the mean in a perfectly symmetrical normal distribution. In any symmetrical distribution, the median is the value that divides the data into two equal halves, and for a normal distribution, this aligns with the mean.\n",
        "\n",
        "3. Mode: In a normal distribution, the mode is also equal to the mean and median. This is because the normal distribution has a single, well-defined peak, and there is no mode-shift or skewness present.\n",
        "\n",
        "In summary, for a perfectly symmetrical normal distribution, the mean, median, and mode are all equal."
      ],
      "metadata": {
        "id": "UpgmwJAnUQKs"
      }
    },
    {
      "cell_type": "markdown",
      "source": [
        "Q13. How is covariance different from correlation?"
      ],
      "metadata": {
        "id": "1E7n-svyNMXM"
      }
    },
    {
      "cell_type": "markdown",
      "source": [
        "\n",
        "1. Scale:\n",
        "- Covariance is not scaled and depends on the units of the variables. As a result, it can be difficult to interpret and compare covariances between different datasets or variables with different units of measurement.\n",
        "- Correlation, on the other hand, is standardized and ranges from -1 to +1. It provides a dimensionless measure, making it easier to compare the strength and direction of the relationship between different pairs of variables, regardless of their scales or units.\n",
        "\n",
        "2. Interpretability:\n",
        "- Covariance only indicates the direction of the relationship between two variables (positive or negative), but it does not provide information about the strength of the relationship.\n",
        "- Correlation, specifically Pearson's correlation coefficient (r), provides both the direction and the strength of the linear relationship between the variables. A correlation coefficient close to +1 or -1 indicates a strong linear relationship, while a value close to 0 suggests a weak or no linear relationship.\n",
        "\n",
        "3. Range:\n",
        "- Covariance has no predefined range and can take any real value, positive or negative.\n",
        "- Correlation has a fixed range from -1 to +1, making it easier to interpret. A correlation coefficient of +1 indicates a perfect positive linear relationship, -1 indicates a perfect negative linear relationship, and 0 indicates no linear relationship.\n",
        "\n",
        "4. Standardization:\n",
        "- Covariance is simply the average of the products of the deviations of the data points from their respective means.\n",
        "- Correlation involves dividing the covariance by the product of the standard deviations of the two variables, which standardizes the measure and ensures it falls within the range of -1 to +1.\n",
        "\n"
      ],
      "metadata": {
        "id": "T2hHV74QUaby"
      }
    },
    {
      "cell_type": "markdown",
      "source": [
        "Q14. How do outliers affect measures of central tendency and dispersion? Provide an example."
      ],
      "metadata": {
        "id": "WI0sHVaKNO_E"
      }
    },
    {
      "cell_type": "markdown",
      "source": [
        "Effect on Measures of Central Tendency:\n",
        "\n",
        "1. Mean: Outliers can pull the mean in the direction of the outlier value. A positive outlier will increase the mean, while a negative outlier will decrease it. The mean is sensitive to extreme values, and even a single outlier can noticeably affect the central value.\n",
        "\n",
        "2. Median: The median is less affected by outliers compared to the mean. It represents the middle value in a dataset, so outliers do not alter its position in the data ordering. However, if the dataset contains a significant number of outliers, the median can be affected, especially in small samples.\n",
        "\n",
        "3. Mode: The mode is not directly impacted by outliers, as it represents the most frequent value in the dataset. Outliers do not change the mode unless they occur very frequently.\n",
        "\n",
        "Effect on Measures of Dispersion:\n",
        "\n",
        "1. Range: Outliers can significantly influence the range, which is the difference between the maximum and minimum values in the dataset. If an outlier is present, the range will be much larger than it would be without the outlier.\n",
        "\n",
        "2. Variance and Standard Deviation: Outliers can greatly affect the variance and standard deviation, as these measures consider the squared differences of each data point from the mean. The presence of outliers leads to larger deviations, resulting in increased variance and standard deviation values.\n",
        "\n",
        "Example:\n",
        "\n",
        "Consider the following dataset representing the test scores of a group of students: [80, 85, 90, 92, 95, 85, 100].\n",
        "\n",
        "Without Outlier:\n",
        "- Mean = (80 + 85 + 90 + 92 + 95 + 85 + 100) / 7 ≈ 90.14\n",
        "- Median = 90\n",
        "- Mode = 85\n",
        "- Range = 100 - 80 = 20\n",
        "- Variance ≈ 36.19\n",
        "- Standard Deviation ≈ 6.01\n",
        "\n",
        "With Outlier:\n",
        "If we add an outlier to the dataset: [80, 85, 90, 92, 95, 85, 100, 110]\n",
        "\n",
        "- Mean = (80 + 85 + 90 + 92 + 95 + 85 + 100 + 110) / 8 ≈ 93.375 (higher due to the outlier)\n",
        "- Median = 91 (affected by the outlier)\n",
        "- Mode = 85 (not affected by the outlier)\n",
        "- Range = 110 - 80 = 30 (larger range due to the outlier)\n",
        "- Variance ≈ 130.77 (larger variance due to the outlier)\n",
        "- Standard Deviation ≈ 11.43 (larger standard deviation due to the outlier)\n",
        "\n",
        "As seen in the example, the presence of an outlier significantly influences the measures of central tendency (mean, median) and dispersion (range, variance, and standard deviation)."
      ],
      "metadata": {
        "id": "7ugoad7XV5rQ"
      }
    }
  ]
}